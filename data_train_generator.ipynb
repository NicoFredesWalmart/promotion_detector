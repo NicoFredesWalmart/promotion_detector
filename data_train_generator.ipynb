{
 "cells": [
  {
   "cell_type": "code",
   "execution_count": 1,
   "metadata": {},
   "outputs": [],
   "source": [
    "import pandas as pd\n",
    "import numpy as np\n",
    "import os\n",
    "import torch"
   ]
  },
  {
   "cell_type": "code",
   "execution_count": 2,
   "metadata": {},
   "outputs": [
    {
     "data": {
      "text/plain": [
       "['MAESTROS DEL HOGAR',\n",
       " 'SIEMPRE LIMPIOS',\n",
       " 'BELLEZA Y CUIDADO FAMILIAR',\n",
       " 'LA BOTI DE CHILE',\n",
       " 'DULCE MOMENTO',\n",
       " 'CONGELADOS',\n",
       " 'PROTEINAS',\n",
       " 'INDESPENSABLES Y MASCOTAS',\n",
       " 'HOGAR  TEXTIL HOGAR',\n",
       " 'DEPORTE JUGUETES',\n",
       " 'DULE',\n",
       " 'HOME E-MACHINE',\n",
       " 'VERDULEROS',\n",
       " 'HORA DEL TE',\n",
       " '._.DS_Store',\n",
       " 'PLATOS PREPARADOS',\n",
       " 'ABSTEMIOS IMPULSIVOS',\n",
       " '.DS_Store',\n",
       " 'FERRE AUTO  JARDIN',\n",
       " 'TUTIFRUTI']"
      ]
     },
     "execution_count": 2,
     "metadata": {},
     "output_type": "execute_result"
    }
   ],
   "source": [
    "root = os.path.join('../data_train')\n",
    "cat_folders = os.listdir(root)\n",
    "cat_folders"
   ]
  },
  {
   "cell_type": "code",
   "execution_count": 3,
   "metadata": {},
   "outputs": [],
   "source": [
    "if '._.DS_Store' in cat_folders:\n",
    "    cat_folders.remove('._.DS_Store')"
   ]
  },
  {
   "cell_type": "code",
   "execution_count": 4,
   "metadata": {},
   "outputs": [],
   "source": [
    "if '.DS_Store' in cat_folders:\n",
    "    cat_folders.remove('.DS_Store')"
   ]
  },
  {
   "cell_type": "code",
   "execution_count": 5,
   "metadata": {},
   "outputs": [],
   "source": [
    "\n",
    "for folder in cat_folders:\n",
    "    file = os.path.join(root, folder, 'todo.csv')\n",
    "    data = pd.read_csv(file)\n",
    "    ids = list(set(data.barcode.to_list()))\n",
    "    ids_array = np.array(ids)\n",
    "    val_set = np.random.choice(ids_array, round(0.2*len(ids)))\n",
    "    ids_set = set(ids)\n",
    "    val = set(val_set)\n",
    "    train = ids_set - val\n",
    "    traincodes = list(train)\n",
    "    valcodes = list(val)\n",
    "    pd_train = data\n",
    "    pd_val = data\n",
    "    for code in valcodes:\n",
    "        pd_train = pd_train[pd_train.barcode != code]\n",
    "    for code in traincodes:\n",
    "        pd_val = pd_val[pd_val.barcode != code]\n",
    "    train_file = os.path.join(root, folder, 'train.csv')\n",
    "    val_file = os.path.join(root, folder, 'val.csv')\n",
    "    pd_train.to_csv(train_file, index=False)\n",
    "    pd_val.to_csv(val_file, index=False)\n",
    "    change = {0:1, 1:0}\n",
    "    pd_train['is_promo'] = pd_train.true_classification.map(change)\n",
    "    pd_val['is_promo'] = pd_val.true_classification.map(change)\n",
    "    pd_train['date'] = pd.to_datetime(pd_train['date'])\n",
    "    pd_val['date'] = pd.to_datetime(pd_val['date'])\n",
    "    barcodes_train = list(set(pd_train.barcode.to_list()))\n",
    "    pos2barcode_train = pd.DataFrame(barcodes_train, columns=['barcode'])\n",
    "    barcodes_val = list(set(pd_val.barcode.to_list()))\n",
    "    pos2barcode_val = pd.DataFrame(barcodes_val, columns=['barcode'])\n",
    "    for idx in range(len(barcodes_train)):\n",
    "        barcode = pos2barcode_train.barcode[idx]\n",
    "        arrow_data = pd_train[pd_train.barcode == barcode].sort_values(by='date',ascending=False)\n",
    "        sample = torch.tensor(arrow_data.price.to_list())\n",
    "        label = torch.tensor(arrow_data.is_promo.to_list())\n",
    "        sample_path =  os.path.join(root, folder, 'train')\n",
    "        if not os.path.exists(sample_path):\n",
    "            os.makedirs(sample_path)\n",
    "        input_path = os.path.join(sample_path, 'inputs')\n",
    "        if not os.path.exists(input_path):\n",
    "            os.makedirs(input_path)\n",
    "        labels_path = os.path.join(sample_path, 'labels')\n",
    "        if not os.path.exists(labels_path):\n",
    "            os.makedirs(labels_path)\n",
    "        sample_path =  os.path.join(input_path, str(barcode) + '.pt')\n",
    "        label_path =  os.path.join(labels_path, str(barcode) + '.pt')\n",
    "        torch.save(sample, sample_path)\n",
    "        torch.save(label, label_path)\n",
    "    for idx in range(len(barcodes_val)):\n",
    "        barcode = pos2barcode_val.barcode[idx]\n",
    "        arrow_data = pd_val[pd_val.barcode == barcode].sort_values(by='date',ascending=False)\n",
    "        sample = torch.tensor(arrow_data.price.to_list())\n",
    "        label = torch.tensor(arrow_data.is_promo.to_list())\n",
    "        sample_path =  os.path.join(root, folder, 'val')\n",
    "        if not os.path.exists(sample_path):\n",
    "            os.makedirs(sample_path)\n",
    "        input_path = os.path.join(sample_path, 'inputs')\n",
    "        if not os.path.exists(input_path):\n",
    "            os.makedirs(input_path)\n",
    "        labels_path = os.path.join(sample_path, 'labels')\n",
    "        if not os.path.exists(labels_path):\n",
    "            os.makedirs(labels_path)\n",
    "        sample_path =  os.path.join(input_path, str(barcode) + '.pt')\n",
    "        label_path =  os.path.join(labels_path, str(barcode) + '.pt')\n",
    "        torch.save(sample, sample_path)\n",
    "        torch.save(label, label_path)\n"
   ]
  },
  {
   "cell_type": "code",
   "execution_count": null,
   "metadata": {},
   "outputs": [],
   "source": []
  }
 ],
 "metadata": {
  "kernelspec": {
   "display_name": "Python 3",
   "language": "python",
   "name": "python3"
  },
  "language_info": {
   "codemirror_mode": {
    "name": "ipython",
    "version": 3
   },
   "file_extension": ".py",
   "mimetype": "text/x-python",
   "name": "python",
   "nbconvert_exporter": "python",
   "pygments_lexer": "ipython3",
   "version": "3.7.7"
  }
 },
 "nbformat": 4,
 "nbformat_minor": 4
}
