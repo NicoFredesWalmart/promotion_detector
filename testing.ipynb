{
 "cells": [
  {
   "cell_type": "code",
   "execution_count": 1,
   "metadata": {},
   "outputs": [],
   "source": [
    "from classify_data import *"
   ]
  },
  {
   "cell_type": "code",
   "execution_count": 2,
   "metadata": {},
   "outputs": [],
   "source": [
    "classified_data_path = '../classified_data/'\n",
    "data_path = '../labeled_data/'\n",
    "squad = 'BELLEZA Y CUIDADO FAMILIAR'\n",
    "batch_size = 64\n",
    "device = torch.device(\"cuda:0\")"
   ]
  },
  {
   "cell_type": "code",
   "execution_count": 5,
   "metadata": {},
   "outputs": [],
   "source": [
    "t = 0.58\n",
    "win_size = 5\n",
    "batch_size = 64\n",
    "num_stds = 0.21\n",
    "threshold = 0.05982\n",
    "percentile = 0.2"
   ]
  },
  {
   "cell_type": "code",
   "execution_count": 6,
   "metadata": {
    "scrolled": true
   },
   "outputs": [
    {
     "name": "stderr",
     "output_type": "stream",
     "text": [
      "/home/nicolasfredes/Desktop/promotions_detector_project/promo_nopromo/classify_data.py:55: UserWarning: To copy construct from a tensor, it is recommended to use sourceTensor.clone().detach() or sourceTensor.clone().detach().requires_grad_(True), rather than torch.tensor(sourceTensor).\n",
      "  l0 = torch.tensor(l0).reshape(prediction.shape[0])\n",
      "/home/nicolasfredes/Desktop/promotions_detector_project/promo_nopromo/classify_data.py:216: SettingWithCopyWarning: \n",
      "A value is trying to be set on a copy of a slice from a DataFrame\n",
      "\n",
      "See the caveats in the documentation: https://pandas.pydata.org/pandas-docs/stable/user_guide/indexing.html#returning-a-view-versus-a-copy\n",
      "  output['is_regular_price'][count] = int(1 - is_promo)\n"
     ]
    },
    {
     "name": "stdout",
     "output_type": "stream",
     "text": [
      "-------  nielsen  results-----\n",
      "Accuracy:  75.59 %\n",
      "Fake Negative:  3.24 %\n",
      "Fake Positive (IMPORTANTE):  21.17 %\n",
      "Fake Positive / P:  57.81 %\n"
     ]
    },
    {
     "name": "stderr",
     "output_type": "stream",
     "text": [
      "/home/nicolasfredes/Desktop/promotions_detector_project/promo_nopromo/classify_data.py:55: UserWarning: To copy construct from a tensor, it is recommended to use sourceTensor.clone().detach() or sourceTensor.clone().detach().requires_grad_(True), rather than torch.tensor(sourceTensor).\n",
      "  l0 = torch.tensor(l0).reshape(prediction.shape[0])\n",
      "/home/nicolasfredes/Desktop/promotions_detector_project/promo_nopromo/classify_data.py:216: SettingWithCopyWarning: \n",
      "A value is trying to be set on a copy of a slice from a DataFrame\n",
      "\n",
      "See the caveats in the documentation: https://pandas.pydata.org/pandas-docs/stable/user_guide/indexing.html#returning-a-view-versus-a-copy\n",
      "  output['is_regular_price'][count] = int(1 - is_promo)\n"
     ]
    },
    {
     "name": "stdout",
     "output_type": "stream",
     "text": [
      "-------  utt  results-----\n",
      "Accuracy:  79.0 %\n",
      "Fake Negative:  4.55 %\n",
      "Fake Positive (IMPORTANTE):  16.45 %\n",
      "Fake Positive / P:  48.8 %\n"
     ]
    }
   ],
   "source": [
    "test(data_path, squad, device, t, win_size, batch_size, num_stds, threshold, percentile, classified_data_path)"
   ]
  },
  {
   "cell_type": "code",
   "execution_count": null,
   "metadata": {},
   "outputs": [],
   "source": [
    "----------------------------"
   ]
  },
  {
   "cell_type": "code",
   "execution_count": 9,
   "metadata": {},
   "outputs": [],
   "source": [
    "t = 0.58\n",
    "win_size = 10\n",
    "batch_size = 64\n",
    "num_stds = 0.2031\n",
    "threshold =0.07448\n",
    "percentile = 0.1875"
   ]
  },
  {
   "cell_type": "code",
   "execution_count": 10,
   "metadata": {},
   "outputs": [
    {
     "name": "stderr",
     "output_type": "stream",
     "text": [
      "/home/nicolasfredes/Desktop/promotions_detector_project/promo_nopromo/classify_data.py:55: UserWarning: To copy construct from a tensor, it is recommended to use sourceTensor.clone().detach() or sourceTensor.clone().detach().requires_grad_(True), rather than torch.tensor(sourceTensor).\n",
      "  l0 = torch.tensor(l0).reshape(prediction.shape[0])\n",
      "/home/nicolasfredes/Desktop/promotions_detector_project/promo_nopromo/classify_data.py:216: SettingWithCopyWarning: \n",
      "A value is trying to be set on a copy of a slice from a DataFrame\n",
      "\n",
      "See the caveats in the documentation: https://pandas.pydata.org/pandas-docs/stable/user_guide/indexing.html#returning-a-view-versus-a-copy\n",
      "  output['is_regular_price'][count] = int(1 - is_promo)\n"
     ]
    },
    {
     "name": "stdout",
     "output_type": "stream",
     "text": [
      "-------  nielsen  results-----\n",
      "Accuracy:  73.72 %\n",
      "Fake Negative:  1.34 %\n",
      "Fake Positive (IMPORTANTE):  24.94 %\n",
      "Fake Positive / P:  68.11 %\n"
     ]
    },
    {
     "name": "stderr",
     "output_type": "stream",
     "text": [
      "/home/nicolasfredes/Desktop/promotions_detector_project/promo_nopromo/classify_data.py:55: UserWarning: To copy construct from a tensor, it is recommended to use sourceTensor.clone().detach() or sourceTensor.clone().detach().requires_grad_(True), rather than torch.tensor(sourceTensor).\n",
      "  l0 = torch.tensor(l0).reshape(prediction.shape[0])\n",
      "/home/nicolasfredes/Desktop/promotions_detector_project/promo_nopromo/classify_data.py:216: SettingWithCopyWarning: \n",
      "A value is trying to be set on a copy of a slice from a DataFrame\n",
      "\n",
      "See the caveats in the documentation: https://pandas.pydata.org/pandas-docs/stable/user_guide/indexing.html#returning-a-view-versus-a-copy\n",
      "  output['is_regular_price'][count] = int(1 - is_promo)\n"
     ]
    },
    {
     "name": "stdout",
     "output_type": "stream",
     "text": [
      "-------  utt  results-----\n",
      "Accuracy:  77.69 %\n",
      "Fake Negative:  1.84 %\n",
      "Fake Positive (IMPORTANTE):  20.47 %\n",
      "Fake Positive / P:  60.72 %\n"
     ]
    }
   ],
   "source": [
    "test(data_path, squad, device, t, win_size, batch_size, num_stds, threshold, percentile, classified_data_path)"
   ]
  },
  {
   "cell_type": "code",
   "execution_count": null,
   "metadata": {},
   "outputs": [],
   "source": []
  }
 ],
 "metadata": {
  "kernelspec": {
   "display_name": "Python 3",
   "language": "python",
   "name": "python3"
  },
  "language_info": {
   "codemirror_mode": {
    "name": "ipython",
    "version": 3
   },
   "file_extension": ".py",
   "mimetype": "text/x-python",
   "name": "python",
   "nbconvert_exporter": "python",
   "pygments_lexer": "ipython3",
   "version": "3.7.7"
  }
 },
 "nbformat": 4,
 "nbformat_minor": 4
}
